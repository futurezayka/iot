{
 "cells": [
  {
   "metadata": {},
   "cell_type": "code",
   "source": [
    "import pandas as pd\n",
    "import matplotlib.pyplot as plt"
   ],
   "id": "b8cdf42d07a873a2",
   "outputs": [],
   "execution_count": null
  },
  {
   "metadata": {},
   "cell_type": "code",
   "source": "base_temp = 48",
   "id": "a3975c5a2ba5e542",
   "outputs": [],
   "execution_count": null
  },
  {
   "metadata": {},
   "cell_type": "code",
   "source": "df = pd.read_csv('../temperature_data.csv')",
   "id": "58772d0a5bc3bc3",
   "outputs": [],
   "execution_count": null
  },
  {
   "metadata": {},
   "cell_type": "code",
   "source": [
    "plt.figure(figsize=(20, 10))\n",
    "plt.plot(df['time'], df['temperature'])\n",
    "plt.xticks(rotation='vertical')"
   ],
   "id": "6943407be36b770c",
   "outputs": [],
   "execution_count": null
  },
  {
   "metadata": {},
   "cell_type": "code",
   "source": [
    "df['time'] = pd.to_datetime(df['time']).dt.date\n",
    "\n",
    "data_by_date = df.groupby('time')\n",
    "min_by_date = data_by_date.min()\n",
    "max_by_date = data_by_date.max()\n",
    "\n",
    "min_max_by_date = pd.merge(min_by_date, max_by_date, on='time', suffixes=('_min', '_max'))\n",
    "min_max_by_date = min_max_by_date.reset_index()\n"
   ],
   "id": "3021c797b6bc38e6",
   "outputs": [],
   "execution_count": null
  },
  {
   "metadata": {
    "ExecuteTime": {
     "end_time": "2024-09-12T20:20:24.382320Z",
     "start_time": "2024-09-12T20:20:24.343742Z"
    }
   },
   "cell_type": "code",
   "source": [
    "def calculate_gdd(row):\n",
    "    return (row['temperature_max'] + row['temperature_min']) / 2 - base_temp\n",
    "\n",
    "min_max_by_date['gdd'] = min_max_by_date.apply(lambda row: calculate_gdd(row), axis=1)\n",
    "\n",
    "min_max_by_date[['time', 'gdd']]"
   ],
   "id": "1fc22b4de2cfb05",
   "outputs": [
    {
     "data": {
      "text/plain": [
       "         time    gdd\n",
       "0  2024-09-12 -26.74"
      ],
      "text/html": [
       "<div>\n",
       "<style scoped>\n",
       "    .dataframe tbody tr th:only-of-type {\n",
       "        vertical-align: middle;\n",
       "    }\n",
       "\n",
       "    .dataframe tbody tr th {\n",
       "        vertical-align: top;\n",
       "    }\n",
       "\n",
       "    .dataframe thead th {\n",
       "        text-align: right;\n",
       "    }\n",
       "</style>\n",
       "<table border=\"1\" class=\"dataframe\">\n",
       "  <thead>\n",
       "    <tr style=\"text-align: right;\">\n",
       "      <th></th>\n",
       "      <th>time</th>\n",
       "      <th>gdd</th>\n",
       "    </tr>\n",
       "  </thead>\n",
       "  <tbody>\n",
       "    <tr>\n",
       "      <th>0</th>\n",
       "      <td>2024-09-12</td>\n",
       "      <td>-26.74</td>\n",
       "    </tr>\n",
       "  </tbody>\n",
       "</table>\n",
       "</div>"
      ]
     },
     "execution_count": 7,
     "metadata": {},
     "output_type": "execute_result"
    }
   ],
   "execution_count": 7
  },
  {
   "metadata": {},
   "cell_type": "code",
   "outputs": [],
   "execution_count": null,
   "source": "",
   "id": "1fca13cc9917d7ff"
  }
 ],
 "metadata": {
  "kernelspec": {
   "display_name": "Python 3",
   "language": "python",
   "name": "python3"
  },
  "language_info": {
   "codemirror_mode": {
    "name": "ipython",
    "version": 2
   },
   "file_extension": ".py",
   "mimetype": "text/x-python",
   "name": "python",
   "nbconvert_exporter": "python",
   "pygments_lexer": "ipython2",
   "version": "2.7.6"
  }
 },
 "nbformat": 4,
 "nbformat_minor": 5
}
